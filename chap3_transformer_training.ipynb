{
 "cells": [
  {
   "cell_type": "markdown",
   "metadata": {},
   "source": [
    "# 第三节：Transformer 实战\n",
    "\n",
    "本节将介绍 Transformer 在粒子物理分类任务中的实战应用。我们将从上一节搭建好的 Transformer 模块出发，利用 PyTorch 和 pytorch-lightning 环境部署到真实的粒子物理应用中。\n",
    "\n",
    "**如果在 Google Colab 中使用，请首先运行下面的命令安装相关的python包。**"
   ]
  },
  {
   "cell_type": "code",
   "execution_count": null,
   "metadata": {},
   "outputs": [],
   "source": [
    "! pip install uproot<5.0.0 weaver-core\n",
    "! pip install pytorch_lightning"
   ]
  },
  {
   "cell_type": "markdown",
   "metadata": {},
   "source": [
    "## 背景介绍\n",
    "\n",
    "在大型强子对撞机（LHC）的高能物理的实验中，两束高能质子束构成一个个团簇流进行对撞，每个团簇发生的对撞称为一个**事例**。对撞会发生复杂的物理过程，产生新粒子——这由目前的量子场论理论可以解释。我们能够采集的信号的是这些产生的粒子与探测器相互作用后，获得的径迹信息、能量沉积信息等等。利用算法，我们可以把所有的末态粒子重建出来，进而知道它所对应的物理过程，转化为对撞机物理的一个重要的可观测量：一个物理过程的微分散射截面。通过比较实验测得的截面和理论预计的截面，我们可以精确测量一些量子场论的理论参数、寻找新粒子可能存在的迹象等等。\n",
    "\n",
    "<img src=\"figures/HiggsEventDisplay.jpg\" alt=\"Drawing\" width=500/>\n",
    "\n",
    "Higgs 玻色子的发现补全了标准模型最后一块拼图，是粒子物理实验的一个里程碑。接下来 LHC 实验的一个重要的物理目标，是研究希格斯的自相互作用。在标准模型中，电弱对称性破缺后，拉式量中会出现Higgs的自耦合项。对应到具体的物理过程，即出现三个或四个Higgs玻色子直接耦合的情形。画成费曼图的话，一个典型的过程就如下图所示。\n",
    "\n",
    "<img src=\"figures/DihiggsFD.jpg\" alt=\"Drawing\" width=300/>\n",
    "\n",
    "这个过程中，由于Higgs的自耦合，最终产生了两个Higgs玻色子。如果能够测量这个过程的物理散射截面，那么便可以对自耦合的修正因子$\\kappa_\\lambda$进行限制。我们这里讨论一种特殊的衰变模式，即一个Higgs衰变到分支比最大的$b\\bar{b}$末态，另一个Higgs衰变到$W^+W^-$。在本例中，我们将通过重建的事例信息，分辨双希格斯物理中的物理信号 $HH\\to b\\bar{b}W^+W^-$ 与其最大的本底过程$t\\bar{t}\\to b\\bar{b}W^+W^-$。˙信号和本底过程有如下的特点：\n",
    "- 二者的末态粒子完全相同：两个b夸克会形成两个b喷注；两个W玻色子研究其轻子化衰变，生成两个轻子（即电子或μ子）和看不⻅的中微子；\n",
    "- 但二者的末态粒子的相空间稍有差别: $HH$ 和 $t\\bar{t}$ 各自是头对头出射的（因极端相对论效应），所以前者 $bb$ 和 $WW$ 可能各自很近，后者两个 $bW$ 对可能各自很近；\n",
    "- 我们可以实验上测出信号和背景的末态信息，即两个 b 喷注 + 两个轻子的信息（四动量、喷注性质的变量等等）。\n",
    "\n",
    "那么，能否用神经网络技术，利用重建的事例信息区分两种过程？\n",
    "\n",
    "<img src=\"figures/SigBkgFS.png\" alt=\"Drawing\" width=700/>\n",
    "\n",
    "> 对于事例重建信息的说明：\n",
    ">\n",
    "> - 首先，在LHC上夸克（如底夸克）和胶子会最终形成喷注——它们是聚焦在一定半径的锥角内的一束能量很强的强子簇设。强相互作用在能标较高的情况下较弱，但在低能标下表现地非常强，夸克因紧闭效应无法单独存在，需与其它夸克紧密结合，形成强子无法“挣脱”。因此，夸克从最初的产生起即不断发生强子化和部分子淋浴过程，最终只能看到一束强子簇设。\n",
    "> \n",
    "> - 其次，中微子无法被探测器观测到，但是因为它会带走一部分横动量，破坏横截面的动量守恒。因此，可以通过重建出横截面的丢失横动量和方位角，来判断过程中产生了中微子。\n",
    "\n",
    "\n"
   ]
  },
  {
   "cell_type": "markdown",
   "metadata": {},
   "source": [
    "## 数据集介绍\n",
    "\n",
    "我们的数据集包含上述的信号、背景两种物理过程的事例。\n",
    "在储存的特征中，我们包含了两个b夸克形成喷注 (`bjet1_*`, `bjet2_*` 特征)，两个轻子对应的特征（`lep1_*`, `lep2_*`特征）和丢失横动量特征（`met_*`）。\n",
    "下面用 `pandas` 数据分析包对所储存的数据以表格形式进行呈现。\n"
   ]
  },
  {
   "cell_type": "markdown",
   "metadata": {},
   "source": [
    "**如果在 Google Colab 中使用，请首先运行下面的命令下载所需数据集。**"
   ]
  },
  {
   "cell_type": "code",
   "execution_count": null,
   "metadata": {},
   "outputs": [],
   "source": [
    "! if [[ \"$(hostname)\" != *pku.edu.cn* && \"$(hostname)\" != *lxslc* ]]; then \\\n",
    "    wget https://coli.web.cern.ch/coli/share/cmschina/ML/dihiggs_ntuples/hh2b2w.root; \\\n",
    "    wget https://coli.web.cern.ch/coli/share/cmschina/ML/dihiggs_ntuples/ttbar.root; \\\n",
    "fi"
   ]
  },
  {
   "cell_type": "code",
   "execution_count": 2,
   "metadata": {},
   "outputs": [
    {
     "data": {
      "text/html": [
       "<div>\n",
       "<style scoped>\n",
       "    .dataframe tbody tr th:only-of-type {\n",
       "        vertical-align: middle;\n",
       "    }\n",
       "\n",
       "    .dataframe tbody tr th {\n",
       "        vertical-align: top;\n",
       "    }\n",
       "\n",
       "    .dataframe thead th {\n",
       "        text-align: right;\n",
       "    }\n",
       "</style>\n",
       "<table border=\"1\" class=\"dataframe\">\n",
       "  <thead>\n",
       "    <tr style=\"text-align: right;\">\n",
       "      <th></th>\n",
       "      <th>event</th>\n",
       "      <th>is_sig</th>\n",
       "      <th>is_bkg</th>\n",
       "      <th>bjet1_pt</th>\n",
       "      <th>bjet1_eta</th>\n",
       "      <th>bjet1_phi</th>\n",
       "      <th>bjet1_eratio</th>\n",
       "      <th>bjet1_mass</th>\n",
       "      <th>bjet1_ncharged</th>\n",
       "      <th>bjet1_nneutrals</th>\n",
       "      <th>...</th>\n",
       "      <th>lep1_charge</th>\n",
       "      <th>lep1_type</th>\n",
       "      <th>lep2_pt</th>\n",
       "      <th>lep2_phi</th>\n",
       "      <th>lep2_eta</th>\n",
       "      <th>lep2_charge</th>\n",
       "      <th>lep2_type</th>\n",
       "      <th>met</th>\n",
       "      <th>met_phi</th>\n",
       "      <th>label</th>\n",
       "    </tr>\n",
       "  </thead>\n",
       "  <tbody>\n",
       "    <tr>\n",
       "      <th>0</th>\n",
       "      <td>0</td>\n",
       "      <td>True</td>\n",
       "      <td>False</td>\n",
       "      <td>191.402328</td>\n",
       "      <td>-0.291164</td>\n",
       "      <td>-0.979666</td>\n",
       "      <td>0.289940</td>\n",
       "      <td>16.695002</td>\n",
       "      <td>12</td>\n",
       "      <td>6</td>\n",
       "      <td>...</td>\n",
       "      <td>1</td>\n",
       "      <td>0</td>\n",
       "      <td>17.508558</td>\n",
       "      <td>1.165262</td>\n",
       "      <td>-0.711694</td>\n",
       "      <td>-1</td>\n",
       "      <td>0</td>\n",
       "      <td>233.613846</td>\n",
       "      <td>2.300718</td>\n",
       "      <td>1</td>\n",
       "    </tr>\n",
       "    <tr>\n",
       "      <th>1</th>\n",
       "      <td>1</td>\n",
       "      <td>True</td>\n",
       "      <td>False</td>\n",
       "      <td>68.452507</td>\n",
       "      <td>-1.215415</td>\n",
       "      <td>2.387005</td>\n",
       "      <td>0.492361</td>\n",
       "      <td>15.253864</td>\n",
       "      <td>10</td>\n",
       "      <td>10</td>\n",
       "      <td>...</td>\n",
       "      <td>1</td>\n",
       "      <td>1</td>\n",
       "      <td>50.567219</td>\n",
       "      <td>-1.089323</td>\n",
       "      <td>0.409210</td>\n",
       "      <td>-1</td>\n",
       "      <td>1</td>\n",
       "      <td>102.682526</td>\n",
       "      <td>-0.004101</td>\n",
       "      <td>1</td>\n",
       "    </tr>\n",
       "    <tr>\n",
       "      <th>2</th>\n",
       "      <td>2</td>\n",
       "      <td>True</td>\n",
       "      <td>False</td>\n",
       "      <td>152.725433</td>\n",
       "      <td>0.449958</td>\n",
       "      <td>-1.470235</td>\n",
       "      <td>1.215402</td>\n",
       "      <td>12.211457</td>\n",
       "      <td>12</td>\n",
       "      <td>8</td>\n",
       "      <td>...</td>\n",
       "      <td>1</td>\n",
       "      <td>1</td>\n",
       "      <td>43.384056</td>\n",
       "      <td>0.584961</td>\n",
       "      <td>0.624317</td>\n",
       "      <td>-1</td>\n",
       "      <td>0</td>\n",
       "      <td>57.796436</td>\n",
       "      <td>0.935978</td>\n",
       "      <td>1</td>\n",
       "    </tr>\n",
       "    <tr>\n",
       "      <th>3</th>\n",
       "      <td>3</td>\n",
       "      <td>True</td>\n",
       "      <td>False</td>\n",
       "      <td>107.360390</td>\n",
       "      <td>0.124028</td>\n",
       "      <td>-1.175005</td>\n",
       "      <td>0.000000</td>\n",
       "      <td>6.060685</td>\n",
       "      <td>6</td>\n",
       "      <td>4</td>\n",
       "      <td>...</td>\n",
       "      <td>1</td>\n",
       "      <td>1</td>\n",
       "      <td>26.664654</td>\n",
       "      <td>2.175398</td>\n",
       "      <td>0.556468</td>\n",
       "      <td>-1</td>\n",
       "      <td>1</td>\n",
       "      <td>65.674774</td>\n",
       "      <td>1.417736</td>\n",
       "      <td>1</td>\n",
       "    </tr>\n",
       "    <tr>\n",
       "      <th>4</th>\n",
       "      <td>4</td>\n",
       "      <td>True</td>\n",
       "      <td>False</td>\n",
       "      <td>97.040932</td>\n",
       "      <td>2.160315</td>\n",
       "      <td>-2.940341</td>\n",
       "      <td>0.000000</td>\n",
       "      <td>10.475123</td>\n",
       "      <td>10</td>\n",
       "      <td>14</td>\n",
       "      <td>...</td>\n",
       "      <td>-1</td>\n",
       "      <td>1</td>\n",
       "      <td>29.825296</td>\n",
       "      <td>0.306789</td>\n",
       "      <td>0.310836</td>\n",
       "      <td>1</td>\n",
       "      <td>0</td>\n",
       "      <td>94.994255</td>\n",
       "      <td>-3.043913</td>\n",
       "      <td>1</td>\n",
       "    </tr>\n",
       "    <tr>\n",
       "      <th>...</th>\n",
       "      <td>...</td>\n",
       "      <td>...</td>\n",
       "      <td>...</td>\n",
       "      <td>...</td>\n",
       "      <td>...</td>\n",
       "      <td>...</td>\n",
       "      <td>...</td>\n",
       "      <td>...</td>\n",
       "      <td>...</td>\n",
       "      <td>...</td>\n",
       "      <td>...</td>\n",
       "      <td>...</td>\n",
       "      <td>...</td>\n",
       "      <td>...</td>\n",
       "      <td>...</td>\n",
       "      <td>...</td>\n",
       "      <td>...</td>\n",
       "      <td>...</td>\n",
       "      <td>...</td>\n",
       "      <td>...</td>\n",
       "      <td>...</td>\n",
       "    </tr>\n",
       "    <tr>\n",
       "      <th>149995</th>\n",
       "      <td>149995</td>\n",
       "      <td>False</td>\n",
       "      <td>True</td>\n",
       "      <td>169.980515</td>\n",
       "      <td>-0.147777</td>\n",
       "      <td>2.985398</td>\n",
       "      <td>0.209411</td>\n",
       "      <td>27.176857</td>\n",
       "      <td>12</td>\n",
       "      <td>8</td>\n",
       "      <td>...</td>\n",
       "      <td>-1</td>\n",
       "      <td>1</td>\n",
       "      <td>92.388741</td>\n",
       "      <td>-0.697610</td>\n",
       "      <td>0.483596</td>\n",
       "      <td>1</td>\n",
       "      <td>1</td>\n",
       "      <td>131.839859</td>\n",
       "      <td>-0.000835</td>\n",
       "      <td>0</td>\n",
       "    </tr>\n",
       "    <tr>\n",
       "      <th>149996</th>\n",
       "      <td>149996</td>\n",
       "      <td>False</td>\n",
       "      <td>True</td>\n",
       "      <td>47.205002</td>\n",
       "      <td>1.002193</td>\n",
       "      <td>-1.613720</td>\n",
       "      <td>0.000000</td>\n",
       "      <td>9.505911</td>\n",
       "      <td>10</td>\n",
       "      <td>8</td>\n",
       "      <td>...</td>\n",
       "      <td>-1</td>\n",
       "      <td>0</td>\n",
       "      <td>62.515564</td>\n",
       "      <td>0.693190</td>\n",
       "      <td>0.890577</td>\n",
       "      <td>1</td>\n",
       "      <td>0</td>\n",
       "      <td>75.465065</td>\n",
       "      <td>1.878048</td>\n",
       "      <td>0</td>\n",
       "    </tr>\n",
       "    <tr>\n",
       "      <th>149997</th>\n",
       "      <td>149997</td>\n",
       "      <td>False</td>\n",
       "      <td>True</td>\n",
       "      <td>63.940311</td>\n",
       "      <td>0.381228</td>\n",
       "      <td>0.494209</td>\n",
       "      <td>0.166411</td>\n",
       "      <td>8.920477</td>\n",
       "      <td>10</td>\n",
       "      <td>8</td>\n",
       "      <td>...</td>\n",
       "      <td>1</td>\n",
       "      <td>0</td>\n",
       "      <td>34.591877</td>\n",
       "      <td>2.737549</td>\n",
       "      <td>-0.180914</td>\n",
       "      <td>-1</td>\n",
       "      <td>1</td>\n",
       "      <td>59.409447</td>\n",
       "      <td>0.176429</td>\n",
       "      <td>0</td>\n",
       "    </tr>\n",
       "    <tr>\n",
       "      <th>149998</th>\n",
       "      <td>149998</td>\n",
       "      <td>False</td>\n",
       "      <td>True</td>\n",
       "      <td>89.012772</td>\n",
       "      <td>-0.562279</td>\n",
       "      <td>-0.638000</td>\n",
       "      <td>0.648749</td>\n",
       "      <td>13.602261</td>\n",
       "      <td>11</td>\n",
       "      <td>12</td>\n",
       "      <td>...</td>\n",
       "      <td>-1</td>\n",
       "      <td>1</td>\n",
       "      <td>20.882822</td>\n",
       "      <td>-3.140386</td>\n",
       "      <td>-1.086141</td>\n",
       "      <td>1</td>\n",
       "      <td>0</td>\n",
       "      <td>44.600636</td>\n",
       "      <td>-1.177096</td>\n",
       "      <td>0</td>\n",
       "    </tr>\n",
       "    <tr>\n",
       "      <th>149999</th>\n",
       "      <td>149999</td>\n",
       "      <td>False</td>\n",
       "      <td>True</td>\n",
       "      <td>100.859207</td>\n",
       "      <td>-1.141927</td>\n",
       "      <td>-1.177283</td>\n",
       "      <td>0.068802</td>\n",
       "      <td>11.631890</td>\n",
       "      <td>6</td>\n",
       "      <td>12</td>\n",
       "      <td>...</td>\n",
       "      <td>-1</td>\n",
       "      <td>1</td>\n",
       "      <td>51.515999</td>\n",
       "      <td>0.453256</td>\n",
       "      <td>-1.976577</td>\n",
       "      <td>1</td>\n",
       "      <td>1</td>\n",
       "      <td>73.958908</td>\n",
       "      <td>-2.497298</td>\n",
       "      <td>0</td>\n",
       "    </tr>\n",
       "  </tbody>\n",
       "</table>\n",
       "<p>300000 rows × 30 columns</p>\n",
       "</div>"
      ],
      "text/plain": [
       "         event  is_sig  is_bkg    bjet1_pt  bjet1_eta  bjet1_phi  \\\n",
       "0            0    True   False  191.402328  -0.291164  -0.979666   \n",
       "1            1    True   False   68.452507  -1.215415   2.387005   \n",
       "2            2    True   False  152.725433   0.449958  -1.470235   \n",
       "3            3    True   False  107.360390   0.124028  -1.175005   \n",
       "4            4    True   False   97.040932   2.160315  -2.940341   \n",
       "...        ...     ...     ...         ...        ...        ...   \n",
       "149995  149995   False    True  169.980515  -0.147777   2.985398   \n",
       "149996  149996   False    True   47.205002   1.002193  -1.613720   \n",
       "149997  149997   False    True   63.940311   0.381228   0.494209   \n",
       "149998  149998   False    True   89.012772  -0.562279  -0.638000   \n",
       "149999  149999   False    True  100.859207  -1.141927  -1.177283   \n",
       "\n",
       "        bjet1_eratio  bjet1_mass  bjet1_ncharged  bjet1_nneutrals  ...  \\\n",
       "0           0.289940   16.695002              12                6  ...   \n",
       "1           0.492361   15.253864              10               10  ...   \n",
       "2           1.215402   12.211457              12                8  ...   \n",
       "3           0.000000    6.060685               6                4  ...   \n",
       "4           0.000000   10.475123              10               14  ...   \n",
       "...              ...         ...             ...              ...  ...   \n",
       "149995      0.209411   27.176857              12                8  ...   \n",
       "149996      0.000000    9.505911              10                8  ...   \n",
       "149997      0.166411    8.920477              10                8  ...   \n",
       "149998      0.648749   13.602261              11               12  ...   \n",
       "149999      0.068802   11.631890               6               12  ...   \n",
       "\n",
       "        lep1_charge  lep1_type    lep2_pt  lep2_phi  lep2_eta  lep2_charge  \\\n",
       "0                 1          0  17.508558  1.165262 -0.711694           -1   \n",
       "1                 1          1  50.567219 -1.089323  0.409210           -1   \n",
       "2                 1          1  43.384056  0.584961  0.624317           -1   \n",
       "3                 1          1  26.664654  2.175398  0.556468           -1   \n",
       "4                -1          1  29.825296  0.306789  0.310836            1   \n",
       "...             ...        ...        ...       ...       ...          ...   \n",
       "149995           -1          1  92.388741 -0.697610  0.483596            1   \n",
       "149996           -1          0  62.515564  0.693190  0.890577            1   \n",
       "149997            1          0  34.591877  2.737549 -0.180914           -1   \n",
       "149998           -1          1  20.882822 -3.140386 -1.086141            1   \n",
       "149999           -1          1  51.515999  0.453256 -1.976577            1   \n",
       "\n",
       "        lep2_type         met   met_phi  label  \n",
       "0               0  233.613846  2.300718      1  \n",
       "1               1  102.682526 -0.004101      1  \n",
       "2               0   57.796436  0.935978      1  \n",
       "3               1   65.674774  1.417736      1  \n",
       "4               0   94.994255 -3.043913      1  \n",
       "...           ...         ...       ...    ...  \n",
       "149995          1  131.839859 -0.000835      0  \n",
       "149996          0   75.465065  1.878048      0  \n",
       "149997          1   59.409447  0.176429      0  \n",
       "149998          0   44.600636 -1.177096      0  \n",
       "149999          1   73.958908 -2.497298      0  \n",
       "\n",
       "[300000 rows x 30 columns]"
      ]
     },
     "execution_count": 2,
     "metadata": {},
     "output_type": "execute_result"
    }
   ],
   "source": [
    "# Load data\n",
    "\n",
    "import os\n",
    "# Determine the base directory and the remote git path\n",
    "hostname = os.uname()[1]\n",
    "if 'pku.edu.cn' in hostname: # on PKU cluster\n",
    "    basedir = '/data/pubfs/pku_visitor/public_write/ML/dihiggs_ntuples/'\n",
    "elif hostname.startswith('lxslc'): # on IHEP lxslc\n",
    "    basedir = '/scratchfs/cms/licq/cmschina/ML/dihiggs_ntuples/'\n",
    "else:\n",
    "    basedir = '.'\n",
    "\n",
    "import uproot\n",
    "import pandas as pd\n",
    "\n",
    "dihiggs = uproot.concatenate(f\"{basedir}/hh2b2w.root:tree\",library=\"pd\")\n",
    "ttbar = uproot.concatenate(f\"{basedir}/ttbar.root:tree\",library=\"pd\")\n",
    "\n",
    "df = pd.concat([dihiggs, ttbar], axis=0)\n",
    "df['label'] = df['is_sig'].astype(int) # 定义一个int类型的label，指示是sig还是bkg\n",
    "df"
   ]
  },
  {
   "cell_type": "markdown",
   "metadata": {},
   "source": [
    "## 用简单的 MLP 网络小试牛刀\n",
    "\n",
    "让我们首先使用上面介绍的最简单的DNN，即几层 MLP 网络完成分类。一个利用神经网络分类的概览可以参见下图。\n",
    "在本例中，我们的 MLP 网络包含两个隐藏层，最后一层是一个二分类头。\n",
    "\n",
    "\n",
    "<img src=\"figures/NN_for_event_classification.jpg\" alt=\"image\" width=900/>"
   ]
  },
  {
   "cell_type": "markdown",
   "metadata": {},
   "source": [
    "我们将用 PyTorch 进行搭建网络。\n",
    "下面我们来介绍使用PyTorch训练所需的基本要素\n",
    " - 模型：做一个PyTorch模型 (nn.Module) 就像搭积木一样，用基础的 nn.BlaBla 积木块搭出你想要的模型。我们在 `__init__` 里初始化自己要的积木块，然后整个网络的运行逻辑写在 forward 里，大功告成！这里我们要写一个简单神经网络，则定义几个 nn.Linear 模块，然后在 forward 里按照 Linear层 -> ReLU激活层 -> Linear层 -> ReLU激活层 -> Linear层 的顺序搭起来即可。\n",
    " - 数据集 (DataSet)：这里我们的数据集和上个例子相同，只不过需要用 PyTorch 的专属数据集格式来加载。在这个class里，我们要定义这个数据集的总样本个数 (`__len__`)，和一个 `__getitem__` 函数来 get 到相应 index 下的那个 item。\n",
    "\n",
    "我们这里借用 pytorch-lightning ，它继续封装包裹了一些常用的 pytorch 设置，让我们代码更简短，并增加可读性。"
   ]
  },
  {
   "cell_type": "code",
   "execution_count": 13,
   "metadata": {},
   "outputs": [],
   "source": [
    "import numpy as np\n",
    "import torch\n",
    "from torch.utils.data import Dataset, DataLoader\n",
    "import pytorch_lightning as pl\n",
    "import torch.nn.functional as F\n",
    "from sklearn.model_selection import train_test_split\n",
    "from torch import nn\n",
    "import torchmetrics\n",
    "\n",
    "# Define the PyTorch Lightning model\n",
    "class SimpleMLP(pl.LightningModule):\n",
    "    def __init__(self, input_size, hidden_size, output_size):\n",
    "        super(SimpleMLP, self).__init__()\n",
    "        self.layer1 = nn.Linear(input_size, hidden_size) # 定义第一个Linear层\n",
    "        self.layer2 = nn.Linear(hidden_size, hidden_size) # 定义第二个Linear层\n",
    "        self.layer3 = nn.Linear(hidden_size, output_size) # 定义第三个Linear层\n",
    "\n",
    "        self.train_acc = torchmetrics.Accuracy(task=\"multiclass\", num_classes=output_size) # 帮助我们计算准确率的\n",
    "        self.val_acc = torchmetrics.Accuracy(task=\"multiclass\", num_classes=output_size)\n",
    "\n",
    "    def forward(self, x):\n",
    "        # 把积木搭起来\n",
    "        x = F.relu(self.layer1(x))\n",
    "        x = F.relu(self.layer2(x))\n",
    "        x = self.layer3(x)\n",
    "        return x\n",
    "\n",
    "    def training_step(self, batch, batch_idx):\n",
    "        # 这里是pytorch-lightning的扩展功能，定义每个training step (训练每个batch的时候）之后做什么事情\n",
    "        x, y = batch\n",
    "        logits = self(x)\n",
    "        loss = F.cross_entropy(logits, y)\n",
    "        self.train_acc(logits, y)\n",
    "        self.log('train_loss', loss)\n",
    "        self.log('train_acc', self.train_acc, on_step=False, on_epoch=True)\n",
    "        return loss\n",
    "\n",
    "    def validation_step(self, batch, batch_idx):\n",
    "        # 这里是pytorch-lightning的扩展功能，定义每个validaiton step (在当前epoch训练结束后，开始validation的每个batch）之后做什么事情\n",
    "        x, y = batch\n",
    "        logits = self(x)\n",
    "        loss = F.cross_entropy(logits, y)\n",
    "        self.val_acc(logits, y)\n",
    "        self.log('val_loss', loss)\n",
    "        self.log('val_acc', self.val_acc, on_step=False, on_epoch=True)\n",
    "        return loss\n",
    "\n",
    "    def configure_optimizers(self):\n",
    "        # 选用什么优化器\n",
    "        return torch.optim.Adam(self.parameters(), lr=0.001)\n",
    "\n",
    "\n",
    "# 定义我们的PyTorch dataset, 参见 https://pytorch.org/tutorials/beginner/basics/data_tutorial.html\n",
    "\n",
    "class DataFrameDataset(Dataset):\n",
    "    def __init__(self, dataframe, input_columns, target_column):\n",
    "        self.dataframe = dataframe\n",
    "        self.inputs = dataframe[input_columns].values\n",
    "        self.targets = dataframe[target_column].values\n",
    "\n",
    "    def __len__(self):\n",
    "        return len(self.dataframe)\n",
    "\n",
    "    def __getitem__(self, idx):\n",
    "        x = torch.tensor(self.inputs[idx], dtype=torch.float32) # N维的待输入网络的特征\n",
    "        y = torch.tensor(self.targets[idx], dtype=torch.long) # 一维的label\n",
    "        return x, y"
   ]
  },
  {
   "cell_type": "code",
   "execution_count": 16,
   "metadata": {},
   "outputs": [],
   "source": [
    "input_columns = ['bjet1_pt', 'bjet1_eta', 'bjet1_phi',\n",
    "       'bjet1_eratio', 'bjet1_mass', 'bjet1_ncharged', 'bjet1_nneutrals',\n",
    "       'bjet2_pt', 'bjet2_eta', 'bjet2_phi', 'bjet2_eratio', 'bjet2_mass',\n",
    "       'bjet2_ncharged', 'bjet2_nneutrals', 'lep1_pt', 'lep1_phi', 'lep1_eta',\n",
    "       'lep1_charge', 'lep1_type', 'lep2_pt', 'lep2_phi', 'lep2_eta',\n",
    "       'lep2_charge', 'lep2_type', 'met', 'met_phi']\n",
    "target_column = 'label'\n",
    "\n",
    "# Split the data into training and validation sets\n",
    "train_df, val_df = train_test_split(df, test_size=0.1)\n",
    "\n",
    "# Create datasets\n",
    "train_dataset = DataFrameDataset(train_df, input_columns, target_column)\n",
    "val_dataset = DataFrameDataset(val_df, input_columns, target_column)\n",
    "\n",
    "# Create data loaders\n",
    "train_loader = DataLoader(train_dataset, batch_size=1024, shuffle=True)\n",
    "val_loader = DataLoader(val_dataset, batch_size=1024)\n",
    "\n",
    "# Model instance\n",
    "model_mlp = SimpleMLP(input_size=26, hidden_size=64, output_size=2)"
   ]
  },
  {
   "cell_type": "code",
   "execution_count": 17,
   "metadata": {
    "collapsed": true,
    "jupyter": {
     "outputs_hidden": true
    },
    "tags": []
   },
   "outputs": [
    {
     "name": "stderr",
     "output_type": "stream",
     "text": [
      "Trainer will use only 1 of 4 GPUs because it is running inside an interactive / notebook environment. You may try to set `Trainer(devices=4)` but please note that multi-GPU inside interactive / notebook environments is considered experimental and unstable. Your mileage may vary.\n",
      "GPU available: True (cuda), used: True\n",
      "TPU available: False, using: 0 TPU cores\n",
      "IPU available: False, using: 0 IPUs\n",
      "HPU available: False, using: 0 HPUs\n",
      "LOCAL_RANK: 0 - CUDA_VISIBLE_DEVICES: [0,1,2,3]\n",
      "\n",
      "  | Name      | Type               | Params\n",
      "-------------------------------------------------\n",
      "0 | layer1    | Linear             | 1.7 K \n",
      "1 | layer2    | Linear             | 4.2 K \n",
      "2 | layer3    | Linear             | 130   \n",
      "3 | train_acc | MulticlassAccuracy | 0     \n",
      "4 | val_acc   | MulticlassAccuracy | 0     \n",
      "-------------------------------------------------\n",
      "6.0 K     Trainable params\n",
      "0         Non-trainable params\n",
      "6.0 K     Total params\n",
      "0.024     Total estimated model params size (MB)\n"
     ]
    },
    {
     "data": {
      "application/vnd.jupyter.widget-view+json": {
       "model_id": "29efe993fa3c440abac26feb61646f35",
       "version_major": 2,
       "version_minor": 0
      },
      "text/plain": [
       "Sanity Checking: |          | 0/? [00:00<?, ?it/s]"
      ]
     },
     "metadata": {},
     "output_type": "display_data"
    },
    {
     "name": "stderr",
     "output_type": "stream",
     "text": [
      "/home/olympus/licq/utils/miniconda3/envs/weaver/lib/python3.9/site-packages/pytorch_lightning/trainer/connectors/data_connector.py:441: The 'val_dataloader' does not have many workers which may be a bottleneck. Consider increasing the value of the `num_workers` argument` to `num_workers=71` in the `DataLoader` to improve performance.\n",
      "/home/olympus/licq/utils/miniconda3/envs/weaver/lib/python3.9/site-packages/pytorch_lightning/trainer/connectors/data_connector.py:441: The 'train_dataloader' does not have many workers which may be a bottleneck. Consider increasing the value of the `num_workers` argument` to `num_workers=71` in the `DataLoader` to improve performance.\n"
     ]
    },
    {
     "data": {
      "application/vnd.jupyter.widget-view+json": {
       "model_id": "2a3d42d87f5f4f54aa6c48db650c7eab",
       "version_major": 2,
       "version_minor": 0
      },
      "text/plain": [
       "Training: |          | 0/? [00:00<?, ?it/s]"
      ]
     },
     "metadata": {},
     "output_type": "display_data"
    },
    {
     "data": {
      "application/vnd.jupyter.widget-view+json": {
       "model_id": "c1a9d54278044f1399a1bf05b3bb723f",
       "version_major": 2,
       "version_minor": 0
      },
      "text/plain": [
       "Validation: |          | 0/? [00:00<?, ?it/s]"
      ]
     },
     "metadata": {},
     "output_type": "display_data"
    },
    {
     "data": {
      "application/vnd.jupyter.widget-view+json": {
       "model_id": "ff2583f5ec714386b544a31f8517ac69",
       "version_major": 2,
       "version_minor": 0
      },
      "text/plain": [
       "Validation: |          | 0/? [00:00<?, ?it/s]"
      ]
     },
     "metadata": {},
     "output_type": "display_data"
    },
    {
     "data": {
      "application/vnd.jupyter.widget-view+json": {
       "model_id": "4933438c78a8498ba57cee0b5674e1c9",
       "version_major": 2,
       "version_minor": 0
      },
      "text/plain": [
       "Validation: |          | 0/? [00:00<?, ?it/s]"
      ]
     },
     "metadata": {},
     "output_type": "display_data"
    },
    {
     "data": {
      "application/vnd.jupyter.widget-view+json": {
       "model_id": "9873d14f09ec40b1aceac48dd993fee9",
       "version_major": 2,
       "version_minor": 0
      },
      "text/plain": [
       "Validation: |          | 0/? [00:00<?, ?it/s]"
      ]
     },
     "metadata": {},
     "output_type": "display_data"
    },
    {
     "data": {
      "application/vnd.jupyter.widget-view+json": {
       "model_id": "4b7abc7e58fa4888ad71591277d738a8",
       "version_major": 2,
       "version_minor": 0
      },
      "text/plain": [
       "Validation: |          | 0/? [00:00<?, ?it/s]"
      ]
     },
     "metadata": {},
     "output_type": "display_data"
    },
    {
     "data": {
      "application/vnd.jupyter.widget-view+json": {
       "model_id": "fc4c576dacbd4f68bd70458229ef7753",
       "version_major": 2,
       "version_minor": 0
      },
      "text/plain": [
       "Validation: |          | 0/? [00:00<?, ?it/s]"
      ]
     },
     "metadata": {},
     "output_type": "display_data"
    },
    {
     "data": {
      "application/vnd.jupyter.widget-view+json": {
       "model_id": "bfce18a2608c420fab4a336bddc99e1a",
       "version_major": 2,
       "version_minor": 0
      },
      "text/plain": [
       "Validation: |          | 0/? [00:00<?, ?it/s]"
      ]
     },
     "metadata": {},
     "output_type": "display_data"
    },
    {
     "data": {
      "application/vnd.jupyter.widget-view+json": {
       "model_id": "ba0b35eddfec40d5b1438ad9d0014300",
       "version_major": 2,
       "version_minor": 0
      },
      "text/plain": [
       "Validation: |          | 0/? [00:00<?, ?it/s]"
      ]
     },
     "metadata": {},
     "output_type": "display_data"
    },
    {
     "data": {
      "application/vnd.jupyter.widget-view+json": {
       "model_id": "0d14c427de30455bb066b0155234ecf0",
       "version_major": 2,
       "version_minor": 0
      },
      "text/plain": [
       "Validation: |          | 0/? [00:00<?, ?it/s]"
      ]
     },
     "metadata": {},
     "output_type": "display_data"
    },
    {
     "data": {
      "application/vnd.jupyter.widget-view+json": {
       "model_id": "67e3319788c249f4bc9376fcefbb0d81",
       "version_major": 2,
       "version_minor": 0
      },
      "text/plain": [
       "Validation: |          | 0/? [00:00<?, ?it/s]"
      ]
     },
     "metadata": {},
     "output_type": "display_data"
    },
    {
     "data": {
      "application/vnd.jupyter.widget-view+json": {
       "model_id": "524629fd63c042d5a1e7671689a17851",
       "version_major": 2,
       "version_minor": 0
      },
      "text/plain": [
       "Validation: |          | 0/? [00:00<?, ?it/s]"
      ]
     },
     "metadata": {},
     "output_type": "display_data"
    },
    {
     "data": {
      "application/vnd.jupyter.widget-view+json": {
       "model_id": "162762acf0844a39aa674c2a11bbd22c",
       "version_major": 2,
       "version_minor": 0
      },
      "text/plain": [
       "Validation: |          | 0/? [00:00<?, ?it/s]"
      ]
     },
     "metadata": {},
     "output_type": "display_data"
    },
    {
     "data": {
      "application/vnd.jupyter.widget-view+json": {
       "model_id": "54742722bbea4df0b7a79f942e2dbb8d",
       "version_major": 2,
       "version_minor": 0
      },
      "text/plain": [
       "Validation: |          | 0/? [00:00<?, ?it/s]"
      ]
     },
     "metadata": {},
     "output_type": "display_data"
    },
    {
     "data": {
      "application/vnd.jupyter.widget-view+json": {
       "model_id": "e3e5a6fd666e4aa6bc9a320b4a4b45c5",
       "version_major": 2,
       "version_minor": 0
      },
      "text/plain": [
       "Validation: |          | 0/? [00:00<?, ?it/s]"
      ]
     },
     "metadata": {},
     "output_type": "display_data"
    },
    {
     "data": {
      "application/vnd.jupyter.widget-view+json": {
       "model_id": "1d5a4bdbfdf640a6b4dfd729ea8a6764",
       "version_major": 2,
       "version_minor": 0
      },
      "text/plain": [
       "Validation: |          | 0/? [00:00<?, ?it/s]"
      ]
     },
     "metadata": {},
     "output_type": "display_data"
    },
    {
     "data": {
      "application/vnd.jupyter.widget-view+json": {
       "model_id": "89e9d64a372a4035a5e84931490bc0aa",
       "version_major": 2,
       "version_minor": 0
      },
      "text/plain": [
       "Validation: |          | 0/? [00:00<?, ?it/s]"
      ]
     },
     "metadata": {},
     "output_type": "display_data"
    },
    {
     "data": {
      "application/vnd.jupyter.widget-view+json": {
       "model_id": "a07a9e1c92e143089c3bca9f10a08114",
       "version_major": 2,
       "version_minor": 0
      },
      "text/plain": [
       "Validation: |          | 0/? [00:00<?, ?it/s]"
      ]
     },
     "metadata": {},
     "output_type": "display_data"
    },
    {
     "data": {
      "application/vnd.jupyter.widget-view+json": {
       "model_id": "d54631a2ea854cd4bdbdf7e452bc2a97",
       "version_major": 2,
       "version_minor": 0
      },
      "text/plain": [
       "Validation: |          | 0/? [00:00<?, ?it/s]"
      ]
     },
     "metadata": {},
     "output_type": "display_data"
    },
    {
     "data": {
      "application/vnd.jupyter.widget-view+json": {
       "model_id": "f4770738c4344a27afda7c4e74f07bfd",
       "version_major": 2,
       "version_minor": 0
      },
      "text/plain": [
       "Validation: |          | 0/? [00:00<?, ?it/s]"
      ]
     },
     "metadata": {},
     "output_type": "display_data"
    },
    {
     "data": {
      "application/vnd.jupyter.widget-view+json": {
       "model_id": "20b14e175fd54984bb6b5c08ee51228c",
       "version_major": 2,
       "version_minor": 0
      },
      "text/plain": [
       "Validation: |          | 0/? [00:00<?, ?it/s]"
      ]
     },
     "metadata": {},
     "output_type": "display_data"
    },
    {
     "data": {
      "application/vnd.jupyter.widget-view+json": {
       "model_id": "1c850aff58d2495993a6a63f4f95dd16",
       "version_major": 2,
       "version_minor": 0
      },
      "text/plain": [
       "Validation: |          | 0/? [00:00<?, ?it/s]"
      ]
     },
     "metadata": {},
     "output_type": "display_data"
    },
    {
     "data": {
      "application/vnd.jupyter.widget-view+json": {
       "model_id": "1b9a1ae466404caeadfaa22f1133120e",
       "version_major": 2,
       "version_minor": 0
      },
      "text/plain": [
       "Validation: |          | 0/? [00:00<?, ?it/s]"
      ]
     },
     "metadata": {},
     "output_type": "display_data"
    },
    {
     "data": {
      "application/vnd.jupyter.widget-view+json": {
       "model_id": "4a29162c918542c28afa515d7fd3b16e",
       "version_major": 2,
       "version_minor": 0
      },
      "text/plain": [
       "Validation: |          | 0/? [00:00<?, ?it/s]"
      ]
     },
     "metadata": {},
     "output_type": "display_data"
    },
    {
     "data": {
      "application/vnd.jupyter.widget-view+json": {
       "model_id": "3ebcb8ea1ba34f31833cab4f046e5705",
       "version_major": 2,
       "version_minor": 0
      },
      "text/plain": [
       "Validation: |          | 0/? [00:00<?, ?it/s]"
      ]
     },
     "metadata": {},
     "output_type": "display_data"
    },
    {
     "data": {
      "application/vnd.jupyter.widget-view+json": {
       "model_id": "a7d30e0e6578400fad194770bce5e9b5",
       "version_major": 2,
       "version_minor": 0
      },
      "text/plain": [
       "Validation: |          | 0/? [00:00<?, ?it/s]"
      ]
     },
     "metadata": {},
     "output_type": "display_data"
    },
    {
     "data": {
      "application/vnd.jupyter.widget-view+json": {
       "model_id": "c0a4994ded6f498bbf133ef72895bc5b",
       "version_major": 2,
       "version_minor": 0
      },
      "text/plain": [
       "Validation: |          | 0/? [00:00<?, ?it/s]"
      ]
     },
     "metadata": {},
     "output_type": "display_data"
    },
    {
     "data": {
      "application/vnd.jupyter.widget-view+json": {
       "model_id": "d6f656d597cd4fa1af682bb324d30f39",
       "version_major": 2,
       "version_minor": 0
      },
      "text/plain": [
       "Validation: |          | 0/? [00:00<?, ?it/s]"
      ]
     },
     "metadata": {},
     "output_type": "display_data"
    },
    {
     "data": {
      "application/vnd.jupyter.widget-view+json": {
       "model_id": "94ae78d8fae241a2a4e7044e128e7145",
       "version_major": 2,
       "version_minor": 0
      },
      "text/plain": [
       "Validation: |          | 0/? [00:00<?, ?it/s]"
      ]
     },
     "metadata": {},
     "output_type": "display_data"
    },
    {
     "data": {
      "application/vnd.jupyter.widget-view+json": {
       "model_id": "d8e37214f8004fbab96bf6591b016d1c",
       "version_major": 2,
       "version_minor": 0
      },
      "text/plain": [
       "Validation: |          | 0/? [00:00<?, ?it/s]"
      ]
     },
     "metadata": {},
     "output_type": "display_data"
    },
    {
     "data": {
      "application/vnd.jupyter.widget-view+json": {
       "model_id": "55742d3d8f8649fc82c22ab77f1af765",
       "version_major": 2,
       "version_minor": 0
      },
      "text/plain": [
       "Validation: |          | 0/? [00:00<?, ?it/s]"
      ]
     },
     "metadata": {},
     "output_type": "display_data"
    },
    {
     "data": {
      "application/vnd.jupyter.widget-view+json": {
       "model_id": "439909bf6e7a417f9409b8fde2279c37",
       "version_major": 2,
       "version_minor": 0
      },
      "text/plain": [
       "Validation: |          | 0/? [00:00<?, ?it/s]"
      ]
     },
     "metadata": {},
     "output_type": "display_data"
    },
    {
     "data": {
      "application/vnd.jupyter.widget-view+json": {
       "model_id": "8ef8c9053a434c61b3ceb6879b4c0912",
       "version_major": 2,
       "version_minor": 0
      },
      "text/plain": [
       "Validation: |          | 0/? [00:00<?, ?it/s]"
      ]
     },
     "metadata": {},
     "output_type": "display_data"
    },
    {
     "data": {
      "application/vnd.jupyter.widget-view+json": {
       "model_id": "b6228f6699be413a870ee03372235aee",
       "version_major": 2,
       "version_minor": 0
      },
      "text/plain": [
       "Validation: |          | 0/? [00:00<?, ?it/s]"
      ]
     },
     "metadata": {},
     "output_type": "display_data"
    },
    {
     "data": {
      "application/vnd.jupyter.widget-view+json": {
       "model_id": "868554cbb3c148b8bcc4f7f1091dcd79",
       "version_major": 2,
       "version_minor": 0
      },
      "text/plain": [
       "Validation: |          | 0/? [00:00<?, ?it/s]"
      ]
     },
     "metadata": {},
     "output_type": "display_data"
    },
    {
     "data": {
      "application/vnd.jupyter.widget-view+json": {
       "model_id": "9b73157247b648de9e1fbe778c7289f8",
       "version_major": 2,
       "version_minor": 0
      },
      "text/plain": [
       "Validation: |          | 0/? [00:00<?, ?it/s]"
      ]
     },
     "metadata": {},
     "output_type": "display_data"
    },
    {
     "data": {
      "application/vnd.jupyter.widget-view+json": {
       "model_id": "ebd49149b7864986a37ae10249c86629",
       "version_major": 2,
       "version_minor": 0
      },
      "text/plain": [
       "Validation: |          | 0/? [00:00<?, ?it/s]"
      ]
     },
     "metadata": {},
     "output_type": "display_data"
    },
    {
     "data": {
      "application/vnd.jupyter.widget-view+json": {
       "model_id": "ab692e43b5f64f248c8c4c7223eaa6e5",
       "version_major": 2,
       "version_minor": 0
      },
      "text/plain": [
       "Validation: |          | 0/? [00:00<?, ?it/s]"
      ]
     },
     "metadata": {},
     "output_type": "display_data"
    },
    {
     "data": {
      "application/vnd.jupyter.widget-view+json": {
       "model_id": "4fbd32a490fc4f7f969cdd35c4b6994d",
       "version_major": 2,
       "version_minor": 0
      },
      "text/plain": [
       "Validation: |          | 0/? [00:00<?, ?it/s]"
      ]
     },
     "metadata": {},
     "output_type": "display_data"
    },
    {
     "data": {
      "application/vnd.jupyter.widget-view+json": {
       "model_id": "3b58ac0bb30d44fdb9eea91d1a541394",
       "version_major": 2,
       "version_minor": 0
      },
      "text/plain": [
       "Validation: |          | 0/? [00:00<?, ?it/s]"
      ]
     },
     "metadata": {},
     "output_type": "display_data"
    },
    {
     "data": {
      "application/vnd.jupyter.widget-view+json": {
       "model_id": "3df6d00018a243dca6f8ea7f5adfb87c",
       "version_major": 2,
       "version_minor": 0
      },
      "text/plain": [
       "Validation: |          | 0/? [00:00<?, ?it/s]"
      ]
     },
     "metadata": {},
     "output_type": "display_data"
    },
    {
     "data": {
      "application/vnd.jupyter.widget-view+json": {
       "model_id": "25a3f5f075c04abdb5ec6d890a1bd4cd",
       "version_major": 2,
       "version_minor": 0
      },
      "text/plain": [
       "Validation: |          | 0/? [00:00<?, ?it/s]"
      ]
     },
     "metadata": {},
     "output_type": "display_data"
    },
    {
     "data": {
      "application/vnd.jupyter.widget-view+json": {
       "model_id": "00a3bad51bce4ff598bfcb6db0fe8004",
       "version_major": 2,
       "version_minor": 0
      },
      "text/plain": [
       "Validation: |          | 0/? [00:00<?, ?it/s]"
      ]
     },
     "metadata": {},
     "output_type": "display_data"
    },
    {
     "data": {
      "application/vnd.jupyter.widget-view+json": {
       "model_id": "b7ff00da4238465db27222639e73c944",
       "version_major": 2,
       "version_minor": 0
      },
      "text/plain": [
       "Validation: |          | 0/? [00:00<?, ?it/s]"
      ]
     },
     "metadata": {},
     "output_type": "display_data"
    },
    {
     "data": {
      "application/vnd.jupyter.widget-view+json": {
       "model_id": "6689b136548a429cb41044e700bd7915",
       "version_major": 2,
       "version_minor": 0
      },
      "text/plain": [
       "Validation: |          | 0/? [00:00<?, ?it/s]"
      ]
     },
     "metadata": {},
     "output_type": "display_data"
    },
    {
     "data": {
      "application/vnd.jupyter.widget-view+json": {
       "model_id": "3639fa1be06a41cc8a42467285215ae7",
       "version_major": 2,
       "version_minor": 0
      },
      "text/plain": [
       "Validation: |          | 0/? [00:00<?, ?it/s]"
      ]
     },
     "metadata": {},
     "output_type": "display_data"
    },
    {
     "data": {
      "application/vnd.jupyter.widget-view+json": {
       "model_id": "6b19ebd6a2fe4ca6807bc030ba04eac8",
       "version_major": 2,
       "version_minor": 0
      },
      "text/plain": [
       "Validation: |          | 0/? [00:00<?, ?it/s]"
      ]
     },
     "metadata": {},
     "output_type": "display_data"
    },
    {
     "data": {
      "application/vnd.jupyter.widget-view+json": {
       "model_id": "181670a8371943d8b76716060db1477b",
       "version_major": 2,
       "version_minor": 0
      },
      "text/plain": [
       "Validation: |          | 0/? [00:00<?, ?it/s]"
      ]
     },
     "metadata": {},
     "output_type": "display_data"
    },
    {
     "data": {
      "application/vnd.jupyter.widget-view+json": {
       "model_id": "9f4cabe70e814ba4b6678589843d9e65",
       "version_major": 2,
       "version_minor": 0
      },
      "text/plain": [
       "Validation: |          | 0/? [00:00<?, ?it/s]"
      ]
     },
     "metadata": {},
     "output_type": "display_data"
    },
    {
     "data": {
      "application/vnd.jupyter.widget-view+json": {
       "model_id": "b694d3bb507748cdb4788ae43b151d1f",
       "version_major": 2,
       "version_minor": 0
      },
      "text/plain": [
       "Validation: |          | 0/? [00:00<?, ?it/s]"
      ]
     },
     "metadata": {},
     "output_type": "display_data"
    },
    {
     "data": {
      "application/vnd.jupyter.widget-view+json": {
       "model_id": "418eb65c6f834d8eb1b87d7a21dc6710",
       "version_major": 2,
       "version_minor": 0
      },
      "text/plain": [
       "Validation: |          | 0/? [00:00<?, ?it/s]"
      ]
     },
     "metadata": {},
     "output_type": "display_data"
    },
    {
     "name": "stderr",
     "output_type": "stream",
     "text": [
      "`Trainer.fit` stopped: `max_epochs=50` reached.\n"
     ]
    }
   ],
   "source": [
    "# Trainer with a logger\n",
    "trainer = pl.Trainer(max_epochs=50, logger=pl.loggers.TensorBoardLogger('tb_logs'))\n",
    "\n",
    "# Fit the model\n",
    "trainer.fit(model_mlp, train_loader, val_loader)"
   ]
  },
  {
   "cell_type": "markdown",
   "metadata": {},
   "source": [
    "让我们用训练好的model来在测试集上进行神经网络的推理 (inference)，获得输出结果吧！\n",
    "\n",
    "在标准的神经网络训练的工作流，数据集需要分为三类：训练集 (training dataset)，验证集 (validation dataset) 和测试集。这里我们还用验证集来进行测试。"
   ]
  },
  {
   "cell_type": "code",
   "execution_count": 22,
   "metadata": {},
   "outputs": [
    {
     "name": "stderr",
     "output_type": "stream",
     "text": [
      "LOCAL_RANK: 0 - CUDA_VISIBLE_DEVICES: [0,1,2,3]\n",
      "/home/olympus/licq/utils/miniconda3/envs/weaver/lib/python3.9/site-packages/pytorch_lightning/trainer/connectors/data_connector.py:441: The 'predict_dataloader' does not have many workers which may be a bottleneck. Consider increasing the value of the `num_workers` argument` to `num_workers=71` in the `DataLoader` to improve performance.\n"
     ]
    },
    {
     "data": {
      "application/vnd.jupyter.widget-view+json": {
       "model_id": "0bee6bd5fe334464b7f6fc8708139d95",
       "version_major": 2,
       "version_minor": 0
      },
      "text/plain": [
       "Predicting: |          | 0/? [00:00<?, ?it/s]"
      ]
     },
     "metadata": {},
     "output_type": "display_data"
    }
   ],
   "source": [
    "test_df = val_df\n",
    "\n",
    "# 这是一个用于predict score的 dataset，返回只包含输入的feature，而不包含label (和上面的 DataFrameDataset 对比一下)\n",
    "class DataFrameDatasetForInference(Dataset):\n",
    "    def __init__(self, dataframe, input_columns):\n",
    "        self.inputs = dataframe[input_columns].values\n",
    "\n",
    "    def __len__(self):\n",
    "        return len(self.inputs)\n",
    "\n",
    "    def __getitem__(self, idx):\n",
    "        x = torch.tensor(self.inputs[idx], dtype=torch.float32)\n",
    "        return x\n",
    "\n",
    "test_dataset = DataFrameDatasetForInference(test_df, input_columns)\n",
    "test_loader = DataLoader(test_dataset, batch_size=1024, shuffle=False)\n",
    "\n",
    "# If your model is saved, load it\n",
    "# model_mlp = SimpleMLP.load_from_checkpoint('path_to_checkpoint.ckpt')\n",
    "\n",
    "# Use the trainer to predict\n",
    "predictions_mlp = trainer.predict(model_mlp, dataloaders=test_loader)\n",
    "\n",
    "# Flatten list of tensors\n",
    "predictions_mlp = [p.numpy() for batch in predictions_mlp for p in batch]"
   ]
  },
  {
   "cell_type": "code",
   "execution_count": 34,
   "metadata": {},
   "outputs": [],
   "source": [
    "# 这里的prediction是最后一层网络输出的2个 logits，我们使用 `F.cross_entropy` 来计算交叉熵损失时，它内置了先对 logits 取 softmax\n",
    "# 所以，我们的这个 logits 没有作 softmax 归一，需要手写一下：\n",
    "\n",
    "test_score = np.array([np.exp(p[1]) / (np.exp(p[0]) + np.exp(p[1])) for p in predictions_mlp]) # 注意，我们取第二个神经元，因为它是signal对应的神经元"
   ]
  },
  {
   "cell_type": "code",
   "execution_count": 35,
   "metadata": {},
   "outputs": [
    {
     "data": {
      "text/plain": [
       "(0.0, 1.0)"
      ]
     },
     "execution_count": 35,
     "metadata": {},
     "output_type": "execute_result"
    },
    {
     "data": {
      "image/png": "[encoded data removed]",
      "text/plain": [
       "<Figure size 720x720 with 1 Axes>"
      ]
     },
     "metadata": {
      "needs_background": "light"
     },
     "output_type": "display_data"
    }
   ],
   "source": [
    "## 下面做出图像\n",
    "\n",
    "import matplotlib.pyplot as plt\n",
    "import mplhep as hep\n",
    "plt.style.use(hep.style.ROOT)\n",
    "\n",
    "plt.hist(test_score[test_df['is_bkg']], label=\"BKG\", histtype=\"step\", bins=np.linspace(0,1), density=True)\n",
    "plt.hist(test_score[test_df['is_sig']], label=\"SIG\", histtype=\"step\", bins=np.linspace(0,1), density=True)\n",
    "plt.legend()\n",
    "plt.xlabel(\"Score (Prob. from NN Prediction)\")\n",
    "plt.xlim(0,1)"
   ]
  },
  {
   "cell_type": "markdown",
   "metadata": {},
   "source": [
    "## 训练一个简单的 Transformer 分类器\n",
    "\n",
    "我们把上一节搭建起的 Transformer 的模块直接搬运过来，训练一个 Transformer 模型。\n",
    "\n",
    "这里要考虑一个重要的问题：**我们的“token”是什么？原本是一维的（dim=26）的固定长度的输入，应该如何展成二维的数据？**\n",
    "\n",
    "### 特殊的 Tokenization\n",
    "\n",
    "很明显地，我们输入的26个特征可以归属为几个更高级别的object的特征：两个b-jet，两个轻子，和一个丢失横动量。尽管我们输入了两个b-jet各自的7个特征，但是我们人为把它们排了序，这本质上破坏了数据内禀的对于b-jet的特征交换不变的特点；对于两个轻子也是类似的。\n",
    "因此，我们**不妨定义5个token**，分别对应这5个object。而且，对于两个b-jet，我们让他们的token embedding共享同一套变换网络；对两个轻子，也共享同一套网络，这就把数据内禀的层级结构嵌入到网络的设计中了。\n",
    "\n",
    "除此以外，我们要定一个[CLS] token，因此放在了第1个位置。这就是我们为这个任务特别定制的 Embeddings 模块：\n",
    "\n",
    "```python\n",
    "class Embeddings(nn.Module):\n",
    "    def __init__(self, config):\n",
    "        super(Embeddings, self).__init__()\n",
    "        self.token_embeddings = nn.ModuleList([\n",
    "            nn.Linear(7, config.hidden_size), # embed bjet token\n",
    "            nn.Linear(5, config.hidden_size), # embed lep token\n",
    "            nn.Linear(2, config.hidden_size) # embed met token\n",
    "        ])\n",
    "        self.layer_norm = nn.LayerNorm(config.hidden_size, eps=1e-12)\n",
    "        self.dropout = nn.Dropout(config.hidden_dropout_prob)\n",
    "        # add a trainable class token\n",
    "        self.class_token = nn.Parameter(torch.randn(1, config.hidden_size))\n",
    "\n",
    "    def forward(self, input):\n",
    "        # input has size (batch_size, input_dim=26)\n",
    "        embeddings = []\n",
    "        embeddings.append(self.class_token.expand(input.size(0), -1)) # first token is the [CLS] token\n",
    "        embeddings.append(self.token_embeddings[0](input[:, :7])) # bjet1 token embed by bjet embedding layer\n",
    "        embeddings.append(self.token_embeddings[0](input[:, 7:14])) # bjet2 token embed by bjet embedding layer\n",
    "        embeddings.append(self.token_embeddings[1](input[:, 14:19])) # lep1 token embed by lep embedding layer\n",
    "        embeddings.append(self.token_embeddings[1](input[:, 19:24])) # lep2 token embed by lep embedding layer\n",
    "        embeddings.append(self.token_embeddings[2](input[:, 24:])) # met token embed by met embedding layer\n",
    "        embeddings = torch.stack(embeddings, dim=1)\n",
    "        # now embeddings has dim (batch_size, num_tokens, hidden_size)\n",
    "        embeddings = self.layer_norm(embeddings)\n",
    "        embeddings = self.dropout(embeddings)\n",
    "        return embeddings\n",
    "```\n",
    "\n",
    "对于其它模块，我们直接照搬上节的定义如下（请参照上一节的内容，再次理解一下各个模块的含义）。"
   ]
  },
  {
   "cell_type": "code",
   "execution_count": 18,
   "metadata": {},
   "outputs": [],
   "source": [
    "def scaled_dot_product_attention(query, key, value):\n",
    "    dim_k = query.size(-1)\n",
    "    scores = torch.bmm(query, key.transpose(1, 2)) / np.sqrt(dim_k)\n",
    "    weights = F.softmax(scores, dim=-1)\n",
    "    return torch.bmm(weights, value)\n",
    "\n",
    "class AttentionHead(nn.Module):\n",
    "    def __init__(self, embed_dim, head_dim):\n",
    "        super().__init__()\n",
    "        self.q = nn.Linear(embed_dim, head_dim)\n",
    "        self.k = nn.Linear(embed_dim, head_dim)\n",
    "        self.v = nn.Linear(embed_dim, head_dim)\n",
    "\n",
    "    def forward(self, hidden_state):\n",
    "        attn_outputs = scaled_dot_product_attention(\n",
    "            self.q(hidden_state), self.k(hidden_state), self.v(hidden_state))\n",
    "        return attn_outputs\n",
    "\n",
    "class MultiHeadAttention(nn.Module):\n",
    "    def __init__(self, config):\n",
    "        super().__init__()\n",
    "        embed_dim = config.hidden_size\n",
    "        num_heads = config.num_attention_heads\n",
    "        head_dim = embed_dim // num_heads\n",
    "        self.heads = nn.ModuleList(\n",
    "            [AttentionHead(embed_dim, head_dim) for _ in range(num_heads)]\n",
    "        )\n",
    "        self.output_linear = nn.Linear(embed_dim, embed_dim)\n",
    "\n",
    "    def forward(self, hidden_state):\n",
    "        x = torch.cat([h(hidden_state) for h in self.heads], dim=-1)\n",
    "        x = self.output_linear(x)\n",
    "        return x\n",
    "\n",
    "class FeedForward(nn.Module):\n",
    "    def __init__(self, config):\n",
    "        super().__init__()\n",
    "        self.linear_1 = nn.Linear(config.hidden_size, config.intermediate_size)\n",
    "        self.linear_2 = nn.Linear(config.intermediate_size, config.hidden_size)\n",
    "        self.gelu = nn.GELU()\n",
    "        self.dropout = nn.Dropout(config.hidden_dropout_prob)\n",
    "\n",
    "    def forward(self, x):\n",
    "        x = self.linear_1(x)\n",
    "        x = self.gelu(x)\n",
    "        x = self.linear_2(x)\n",
    "        x = self.dropout(x)\n",
    "        return x\n",
    "\n",
    "class TransformerEncoderLayer(nn.Module):\n",
    "    def __init__(self, config):\n",
    "        super().__init__()\n",
    "        self.layer_norm_1 = nn.LayerNorm(config.hidden_size)\n",
    "        self.layer_norm_2 = nn.LayerNorm(config.hidden_size)\n",
    "        self.attention = MultiHeadAttention(config)\n",
    "        self.feed_forward = FeedForward(config)\n",
    "\n",
    "    def forward(self, x):\n",
    "        # Apply layer normalization and then copy input into query, key, value\n",
    "        hidden_state = self.layer_norm_1(x)\n",
    "        # Apply attention with a skip connection\n",
    "        x = x + self.attention(hidden_state)\n",
    "        # Apply feed-forward layer with a skip connection\n",
    "        x = x + self.feed_forward(self.layer_norm_2(x))\n",
    "        return x\n",
    "\n",
    "###### Customized embedding layers ######\n",
    "class Embeddings(nn.Module):\n",
    "    def __init__(self, config):\n",
    "        super(Embeddings, self).__init__()\n",
    "        self.token_embeddings = nn.ModuleList([\n",
    "            nn.Linear(7, config.hidden_size), # embed bjet token\n",
    "            nn.Linear(5, config.hidden_size), # embed lep token\n",
    "            nn.Linear(2, config.hidden_size) # embed met token\n",
    "        ])\n",
    "        self.layer_norm = nn.LayerNorm(config.hidden_size, eps=1e-12)\n",
    "        self.dropout = nn.Dropout(config.hidden_dropout_prob)\n",
    "        # add a trainable class token\n",
    "        self.class_token = nn.Parameter(torch.randn(1, config.hidden_size))\n",
    "\n",
    "    def forward(self, input):\n",
    "        # input has size (batch_size, input_dim=26)\n",
    "        embeddings = []\n",
    "        embeddings.append(self.class_token.expand(input.size(0), -1)) # first token is the [CLS] token\n",
    "        embeddings.append(self.token_embeddings[0](input[:, :7])) # bjet1 token embed by bjet embedding layer\n",
    "        embeddings.append(self.token_embeddings[0](input[:, 7:14])) # bjet2 token embed by bjet embedding layer\n",
    "        embeddings.append(self.token_embeddings[1](input[:, 14:19])) # lep1 token embed by lep embedding layer\n",
    "        embeddings.append(self.token_embeddings[1](input[:, 19:24])) # lep2 token embed by lep embedding layer\n",
    "        embeddings.append(self.token_embeddings[2](input[:, 24:])) # met token embed by met embedding layer\n",
    "        embeddings = torch.stack(embeddings, dim=1)\n",
    "        # now embeddings has dim (batch_size, num_tokens, hidden_size)\n",
    "        embeddings = self.layer_norm(embeddings)\n",
    "        embeddings = self.dropout(embeddings)\n",
    "        return embeddings\n",
    "\n",
    "########################################\n",
    "\n",
    "class TransformerEncoder(nn.Module):\n",
    "    def __init__(self, config):\n",
    "        super().__init__()\n",
    "        self.embeddings = Embeddings(config)\n",
    "        self.layers = nn.ModuleList([TransformerEncoderLayer(config)\n",
    "                                     for _ in range(config.num_hidden_layers)])\n",
    "\n",
    "    def forward(self, x):\n",
    "        x = self.embeddings(x)\n",
    "        for layer in self.layers:\n",
    "            x = layer(x)\n",
    "        return x\n",
    "\n",
    "class TransformerForSequenceClassification(nn.Module):\n",
    "    def __init__(self, config):\n",
    "        super().__init__()\n",
    "        self.encoder = TransformerEncoder(config)\n",
    "        self.dropout = nn.Dropout(config.hidden_dropout_prob)\n",
    "        self.classifier = nn.Linear(config.hidden_size, config.num_labels)\n",
    "\n",
    "    def forward(self, x):\n",
    "        x = self.encoder(x)[:, 0, :] # select hidden state of [CLS] token\n",
    "        x = self.dropout(x)\n",
    "        x = self.classifier(x)\n",
    "        return x"
   ]
  },
  {
   "cell_type": "markdown",
   "metadata": {},
   "source": [
    "接下来定义 pytorch-lightning model"
   ]
  },
  {
   "cell_type": "code",
   "execution_count": 19,
   "metadata": {},
   "outputs": [
    {
     "name": "stdout",
     "output_type": "stream",
     "text": [
      "SimpleTransformer(\n",
      "  (mod): TransformerForSequenceClassification(\n",
      "    (encoder): TransformerEncoder(\n",
      "      (embeddings): Embeddings(\n",
      "        (token_embeddings): ModuleList(\n",
      "          (0): Linear(in_features=7, out_features=16, bias=True)\n",
      "          (1): Linear(in_features=5, out_features=16, bias=True)\n",
      "          (2): Linear(in_features=2, out_features=16, bias=True)\n",
      "        )\n",
      "        (layer_norm): LayerNorm((16,), eps=1e-12, elementwise_affine=True)\n",
      "        (dropout): Dropout(p=0.1, inplace=False)\n",
      "      )\n",
      "      (layers): ModuleList(\n",
      "        (0-1): 2 x TransformerEncoderLayer(\n",
      "          (layer_norm_1): LayerNorm((16,), eps=1e-05, elementwise_affine=True)\n",
      "          (layer_norm_2): LayerNorm((16,), eps=1e-05, elementwise_affine=True)\n",
      "          (attention): MultiHeadAttention(\n",
      "            (heads): ModuleList(\n",
      "              (0-3): 4 x AttentionHead(\n",
      "                (q): Linear(in_features=16, out_features=4, bias=True)\n",
      "                (k): Linear(in_features=16, out_features=4, bias=True)\n",
      "                (v): Linear(in_features=16, out_features=4, bias=True)\n",
      "              )\n",
      "            )\n",
      "            (output_linear): Linear(in_features=16, out_features=16, bias=True)\n",
      "          )\n",
      "          (feed_forward): FeedForward(\n",
      "            (linear_1): Linear(in_features=16, out_features=32, bias=True)\n",
      "            (linear_2): Linear(in_features=32, out_features=16, bias=True)\n",
      "            (gelu): GELU(approximate='none')\n",
      "            (dropout): Dropout(p=0.1, inplace=False)\n",
      "          )\n",
      "        )\n",
      "      )\n",
      "    )\n",
      "    (dropout): Dropout(p=0.1, inplace=False)\n",
      "    (classifier): Linear(in_features=16, out_features=2, bias=True)\n",
      "  )\n",
      "  (train_acc): MulticlassAccuracy()\n",
      "  (val_acc): MulticlassAccuracy()\n",
      ")\n"
     ]
    }
   ],
   "source": [
    "from types import SimpleNamespace\n",
    "config = SimpleNamespace(\n",
    "    hidden_size = 16,  # Hidden size for embeddings and Transformer\n",
    "    num_attention_heads = 4,  # Number of attention heads\n",
    "    intermediate_size = 32,  # Feed forward intermediate size\n",
    "    num_hidden_layers = 2,  # Number of Transformer layers\n",
    "    hidden_dropout_prob = 0.1,  # Dropout probability\n",
    "    num_labels = 2  # Number of output classes\n",
    ")\n",
    "\n",
    "# Define the PyTorch Lightning model\n",
    "class SimpleTransformer(pl.LightningModule):\n",
    "    def __init__(self, config):\n",
    "        super(SimpleTransformer, self).__init__()\n",
    "        self.mod = TransformerForSequenceClassification(config)\n",
    "\n",
    "        self.train_acc = torchmetrics.Accuracy(task=\"multiclass\", num_classes=config.num_labels) # 帮助我们计算准确率的\n",
    "        self.val_acc = torchmetrics.Accuracy(task=\"multiclass\", num_classes=config.num_labels)\n",
    "\n",
    "    def forward(self, x):\n",
    "        return self.mod(x)\n",
    "\n",
    "    def training_step(self, batch, batch_idx):\n",
    "        # 这里是pytorch-lightning的扩展功能，定义每个training step (训练每个batch的时候）之后做什么事情\n",
    "        x, y = batch\n",
    "        logits = self(x)\n",
    "        loss = F.cross_entropy(logits, y)\n",
    "        self.train_acc(logits, y)\n",
    "        self.log('train_loss', loss)\n",
    "        self.log('train_acc', self.train_acc, on_step=False, on_epoch=True)\n",
    "        return loss\n",
    "\n",
    "    def validation_step(self, batch, batch_idx):\n",
    "        # 这里是pytorch-lightning的扩展功能，定义每个validaiton step (在当前epoch训练结束后，开始validation的每个batch）之后做什么事情\n",
    "        x, y = batch\n",
    "        logits = self(x)\n",
    "        loss = F.cross_entropy(logits, y)\n",
    "        self.val_acc(logits, y)\n",
    "        self.log('val_loss', loss)\n",
    "        self.log('val_acc', self.val_acc, on_step=False, on_epoch=True)\n",
    "        return loss\n",
    "\n",
    "    def configure_optimizers(self):\n",
    "        # 选用什么优化器\n",
    "        return torch.optim.Adam(self.parameters(), lr=0.001)\n",
    "\n",
    "# 定义model的实例\n",
    "model_transformer = SimpleTransformer(config)\n",
    "\n",
    "# 打印下这个模型进行检查\n",
    "print(model_transformer)\n"
   ]
  },
  {
   "cell_type": "code",
   "execution_count": 20,
   "metadata": {},
   "outputs": [
    {
     "name": "stderr",
     "output_type": "stream",
     "text": [
      "Trainer will use only 1 of 4 GPUs because it is running inside an interactive / notebook environment. You may try to set `Trainer(devices=4)` but please note that multi-GPU inside interactive / notebook environments is considered experimental and unstable. Your mileage may vary.\n",
      "GPU available: True (cuda), used: True\n",
      "TPU available: False, using: 0 TPU cores\n",
      "IPU available: False, using: 0 IPUs\n",
      "HPU available: False, using: 0 HPUs\n",
      "LOCAL_RANK: 0 - CUDA_VISIBLE_DEVICES: [0,1,2,3]\n",
      "\n",
      "  | Name      | Type                                 | Params\n",
      "-------------------------------------------------------------------\n",
      "0 | mod       | TransformerForSequenceClassification | 4.8 K \n",
      "1 | train_acc | MulticlassAccuracy                   | 0     \n",
      "2 | val_acc   | MulticlassAccuracy                   | 0     \n",
      "-------------------------------------------------------------------\n",
      "4.8 K     Trainable params\n",
      "0         Non-trainable params\n",
      "4.8 K     Total params\n",
      "0.019     Total estimated model params size (MB)\n"
     ]
    },
    {
     "data": {
      "application/vnd.jupyter.widget-view+json": {
       "model_id": "836968c65ec840f199369e183189e0d5",
       "version_major": 2,
       "version_minor": 0
      },
      "text/plain": [
       "Sanity Checking: |          | 0/? [00:00<?, ?it/s]"
      ]
     },
     "metadata": {},
     "output_type": "display_data"
    },
    {
     "name": "stderr",
     "output_type": "stream",
     "text": [
      "/home/olympus/licq/utils/miniconda3/envs/weaver/lib/python3.9/site-packages/pytorch_lightning/trainer/connectors/data_connector.py:441: The 'val_dataloader' does not have many workers which may be a bottleneck. Consider increasing the value of the `num_workers` argument` to `num_workers=71` in the `DataLoader` to improve performance.\n",
      "/home/olympus/licq/utils/miniconda3/envs/weaver/lib/python3.9/site-packages/pytorch_lightning/trainer/connectors/data_connector.py:441: The 'train_dataloader' does not have many workers which may be a bottleneck. Consider increasing the value of the `num_workers` argument` to `num_workers=71` in the `DataLoader` to improve performance.\n"
     ]
    },
    {
     "data": {
      "application/vnd.jupyter.widget-view+json": {
       "model_id": "12c8ca0ee61d4120b8d99c69ae894d0e",
       "version_major": 2,
       "version_minor": 0
      },
      "text/plain": [
       "Training: |          | 0/? [00:00<?, ?it/s]"
      ]
     },
     "metadata": {},
     "output_type": "display_data"
    },
    {
     "data": {
      "application/vnd.jupyter.widget-view+json": {
       "model_id": "21ab3132ff77463696385e7188be4456",
       "version_major": 2,
       "version_minor": 0
      },
      "text/plain": [
       "Validation: |          | 0/? [00:00<?, ?it/s]"
      ]
     },
     "metadata": {},
     "output_type": "display_data"
    },
    {
     "data": {
      "application/vnd.jupyter.widget-view+json": {
       "model_id": "5ce1e58189814f55ae001a4f9701dac4",
       "version_major": 2,
       "version_minor": 0
      },
      "text/plain": [
       "Validation: |          | 0/? [00:00<?, ?it/s]"
      ]
     },
     "metadata": {},
     "output_type": "display_data"
    },
    {
     "data": {
      "application/vnd.jupyter.widget-view+json": {
       "model_id": "ae2ad32ec8d943c6baa599a8be7ef7f8",
       "version_major": 2,
       "version_minor": 0
      },
      "text/plain": [
       "Validation: |          | 0/? [00:00<?, ?it/s]"
      ]
     },
     "metadata": {},
     "output_type": "display_data"
    },
    {
     "data": {
      "application/vnd.jupyter.widget-view+json": {
       "model_id": "04f3630803e3485390103696b66532e4",
       "version_major": 2,
       "version_minor": 0
      },
      "text/plain": [
       "Validation: |          | 0/? [00:00<?, ?it/s]"
      ]
     },
     "metadata": {},
     "output_type": "display_data"
    },
    {
     "data": {
      "application/vnd.jupyter.widget-view+json": {
       "model_id": "f0f20ecaf847470eb8c9468b9276b817",
       "version_major": 2,
       "version_minor": 0
      },
      "text/plain": [
       "Validation: |          | 0/? [00:00<?, ?it/s]"
      ]
     },
     "metadata": {},
     "output_type": "display_data"
    },
    {
     "data": {
      "application/vnd.jupyter.widget-view+json": {
       "model_id": "6dc26bd18a7f49b980b3665b193fd950",
       "version_major": 2,
       "version_minor": 0
      },
      "text/plain": [
       "Validation: |          | 0/? [00:00<?, ?it/s]"
      ]
     },
     "metadata": {},
     "output_type": "display_data"
    },
    {
     "data": {
      "application/vnd.jupyter.widget-view+json": {
       "model_id": "663b997942d94dc7af80ba96b2e4394d",
       "version_major": 2,
       "version_minor": 0
      },
      "text/plain": [
       "Validation: |          | 0/? [00:00<?, ?it/s]"
      ]
     },
     "metadata": {},
     "output_type": "display_data"
    },
    {
     "data": {
      "application/vnd.jupyter.widget-view+json": {
       "model_id": "594be3b6bb2b4765b0750728d359964a",
       "version_major": 2,
       "version_minor": 0
      },
      "text/plain": [
       "Validation: |          | 0/? [00:00<?, ?it/s]"
      ]
     },
     "metadata": {},
     "output_type": "display_data"
    },
    {
     "data": {
      "application/vnd.jupyter.widget-view+json": {
       "model_id": "8b3e44e1b67646f9a56fc87f1b9bc44d",
       "version_major": 2,
       "version_minor": 0
      },
      "text/plain": [
       "Validation: |          | 0/? [00:00<?, ?it/s]"
      ]
     },
     "metadata": {},
     "output_type": "display_data"
    },
    {
     "data": {
      "application/vnd.jupyter.widget-view+json": {
       "model_id": "ccad9b3dcbe8481b82bd38afcce44521",
       "version_major": 2,
       "version_minor": 0
      },
      "text/plain": [
       "Validation: |          | 0/? [00:00<?, ?it/s]"
      ]
     },
     "metadata": {},
     "output_type": "display_data"
    },
    {
     "data": {
      "application/vnd.jupyter.widget-view+json": {
       "model_id": "8b9a99b3afdc4824a92de2943441fb50",
       "version_major": 2,
       "version_minor": 0
      },
      "text/plain": [
       "Validation: |          | 0/? [00:00<?, ?it/s]"
      ]
     },
     "metadata": {},
     "output_type": "display_data"
    },
    {
     "data": {
      "application/vnd.jupyter.widget-view+json": {
       "model_id": "b0c6220d076d457fa7cccb04f3a325dc",
       "version_major": 2,
       "version_minor": 0
      },
      "text/plain": [
       "Validation: |          | 0/? [00:00<?, ?it/s]"
      ]
     },
     "metadata": {},
     "output_type": "display_data"
    },
    {
     "data": {
      "application/vnd.jupyter.widget-view+json": {
       "model_id": "013bc3f60f2a492e9d3f0efc8a10006b",
       "version_major": 2,
       "version_minor": 0
      },
      "text/plain": [
       "Validation: |          | 0/? [00:00<?, ?it/s]"
      ]
     },
     "metadata": {},
     "output_type": "display_data"
    },
    {
     "data": {
      "application/vnd.jupyter.widget-view+json": {
       "model_id": "8dfbd6ad3f154a65ba6eaec9049f0779",
       "version_major": 2,
       "version_minor": 0
      },
      "text/plain": [
       "Validation: |          | 0/? [00:00<?, ?it/s]"
      ]
     },
     "metadata": {},
     "output_type": "display_data"
    },
    {
     "data": {
      "application/vnd.jupyter.widget-view+json": {
       "model_id": "78861420de28411d9a8f60b5dc036cbb",
       "version_major": 2,
       "version_minor": 0
      },
      "text/plain": [
       "Validation: |          | 0/? [00:00<?, ?it/s]"
      ]
     },
     "metadata": {},
     "output_type": "display_data"
    },
    {
     "data": {
      "application/vnd.jupyter.widget-view+json": {
       "model_id": "a1b430456af445859834e953675336c5",
       "version_major": 2,
       "version_minor": 0
      },
      "text/plain": [
       "Validation: |          | 0/? [00:00<?, ?it/s]"
      ]
     },
     "metadata": {},
     "output_type": "display_data"
    },
    {
     "data": {
      "application/vnd.jupyter.widget-view+json": {
       "model_id": "0ee163f8042548a4a9e915fb6e7eeab8",
       "version_major": 2,
       "version_minor": 0
      },
      "text/plain": [
       "Validation: |          | 0/? [00:00<?, ?it/s]"
      ]
     },
     "metadata": {},
     "output_type": "display_data"
    },
    {
     "data": {
      "application/vnd.jupyter.widget-view+json": {
       "model_id": "0a67667f8de545909325a969a7661a4f",
       "version_major": 2,
       "version_minor": 0
      },
      "text/plain": [
       "Validation: |          | 0/? [00:00<?, ?it/s]"
      ]
     },
     "metadata": {},
     "output_type": "display_data"
    },
    {
     "data": {
      "application/vnd.jupyter.widget-view+json": {
       "model_id": "fa58f3d6c1cb4890849359169d5ab596",
       "version_major": 2,
       "version_minor": 0
      },
      "text/plain": [
       "Validation: |          | 0/? [00:00<?, ?it/s]"
      ]
     },
     "metadata": {},
     "output_type": "display_data"
    },
    {
     "data": {
      "application/vnd.jupyter.widget-view+json": {
       "model_id": "b7dca1c517e74d67a1a3449dd5772dbb",
       "version_major": 2,
       "version_minor": 0
      },
      "text/plain": [
       "Validation: |          | 0/? [00:00<?, ?it/s]"
      ]
     },
     "metadata": {},
     "output_type": "display_data"
    },
    {
     "data": {
      "application/vnd.jupyter.widget-view+json": {
       "model_id": "5711ad6d9e6845be9f8cbf2482f574ff",
       "version_major": 2,
       "version_minor": 0
      },
      "text/plain": [
       "Validation: |          | 0/? [00:00<?, ?it/s]"
      ]
     },
     "metadata": {},
     "output_type": "display_data"
    },
    {
     "data": {
      "application/vnd.jupyter.widget-view+json": {
       "model_id": "e9359a5fbaaf4052815efe3cc579dde8",
       "version_major": 2,
       "version_minor": 0
      },
      "text/plain": [
       "Validation: |          | 0/? [00:00<?, ?it/s]"
      ]
     },
     "metadata": {},
     "output_type": "display_data"
    },
    {
     "data": {
      "application/vnd.jupyter.widget-view+json": {
       "model_id": "8deeed9d45014724a3801c1bb0a6a716",
       "version_major": 2,
       "version_minor": 0
      },
      "text/plain": [
       "Validation: |          | 0/? [00:00<?, ?it/s]"
      ]
     },
     "metadata": {},
     "output_type": "display_data"
    },
    {
     "data": {
      "application/vnd.jupyter.widget-view+json": {
       "model_id": "8d23321f1490441897c0f140a21d9957",
       "version_major": 2,
       "version_minor": 0
      },
      "text/plain": [
       "Validation: |          | 0/? [00:00<?, ?it/s]"
      ]
     },
     "metadata": {},
     "output_type": "display_data"
    },
    {
     "data": {
      "application/vnd.jupyter.widget-view+json": {
       "model_id": "c9c9d8feaaba4a8ea01064ae4a7df305",
       "version_major": 2,
       "version_minor": 0
      },
      "text/plain": [
       "Validation: |          | 0/? [00:00<?, ?it/s]"
      ]
     },
     "metadata": {},
     "output_type": "display_data"
    },
    {
     "data": {
      "application/vnd.jupyter.widget-view+json": {
       "model_id": "9bce7bcc714148e7ac66178e04a69174",
       "version_major": 2,
       "version_minor": 0
      },
      "text/plain": [
       "Validation: |          | 0/? [00:00<?, ?it/s]"
      ]
     },
     "metadata": {},
     "output_type": "display_data"
    },
    {
     "data": {
      "application/vnd.jupyter.widget-view+json": {
       "model_id": "01473a54ab8f4b07aab5c86d9fa9d43f",
       "version_major": 2,
       "version_minor": 0
      },
      "text/plain": [
       "Validation: |          | 0/? [00:00<?, ?it/s]"
      ]
     },
     "metadata": {},
     "output_type": "display_data"
    },
    {
     "data": {
      "application/vnd.jupyter.widget-view+json": {
       "model_id": "69a26ca016b5468ab521f8be03c6a2af",
       "version_major": 2,
       "version_minor": 0
      },
      "text/plain": [
       "Validation: |          | 0/? [00:00<?, ?it/s]"
      ]
     },
     "metadata": {},
     "output_type": "display_data"
    },
    {
     "data": {
      "application/vnd.jupyter.widget-view+json": {
       "model_id": "7a815d08f2db45a4b509c25762e95795",
       "version_major": 2,
       "version_minor": 0
      },
      "text/plain": [
       "Validation: |          | 0/? [00:00<?, ?it/s]"
      ]
     },
     "metadata": {},
     "output_type": "display_data"
    },
    {
     "data": {
      "application/vnd.jupyter.widget-view+json": {
       "model_id": "632b584a75ac481f9c24d5314650b9c1",
       "version_major": 2,
       "version_minor": 0
      },
      "text/plain": [
       "Validation: |          | 0/? [00:00<?, ?it/s]"
      ]
     },
     "metadata": {},
     "output_type": "display_data"
    },
    {
     "data": {
      "application/vnd.jupyter.widget-view+json": {
       "model_id": "8b305b858e3346d6a82f6a26327020a6",
       "version_major": 2,
       "version_minor": 0
      },
      "text/plain": [
       "Validation: |          | 0/? [00:00<?, ?it/s]"
      ]
     },
     "metadata": {},
     "output_type": "display_data"
    },
    {
     "data": {
      "application/vnd.jupyter.widget-view+json": {
       "model_id": "5dee7115778e4d7fb4218b45474717a2",
       "version_major": 2,
       "version_minor": 0
      },
      "text/plain": [
       "Validation: |          | 0/? [00:00<?, ?it/s]"
      ]
     },
     "metadata": {},
     "output_type": "display_data"
    },
    {
     "data": {
      "application/vnd.jupyter.widget-view+json": {
       "model_id": "509f6dc65a7e44c0a3befc751f47659b",
       "version_major": 2,
       "version_minor": 0
      },
      "text/plain": [
       "Validation: |          | 0/? [00:00<?, ?it/s]"
      ]
     },
     "metadata": {},
     "output_type": "display_data"
    },
    {
     "data": {
      "application/vnd.jupyter.widget-view+json": {
       "model_id": "0ebdcbbb3fa346d4b4e0fc9c79b067fb",
       "version_major": 2,
       "version_minor": 0
      },
      "text/plain": [
       "Validation: |          | 0/? [00:00<?, ?it/s]"
      ]
     },
     "metadata": {},
     "output_type": "display_data"
    },
    {
     "data": {
      "application/vnd.jupyter.widget-view+json": {
       "model_id": "0a4afaf0415a493d8b7e1372c0372e75",
       "version_major": 2,
       "version_minor": 0
      },
      "text/plain": [
       "Validation: |          | 0/? [00:00<?, ?it/s]"
      ]
     },
     "metadata": {},
     "output_type": "display_data"
    },
    {
     "data": {
      "application/vnd.jupyter.widget-view+json": {
       "model_id": "de7a7d5c9e47485e883f2928f7025237",
       "version_major": 2,
       "version_minor": 0
      },
      "text/plain": [
       "Validation: |          | 0/? [00:00<?, ?it/s]"
      ]
     },
     "metadata": {},
     "output_type": "display_data"
    },
    {
     "data": {
      "application/vnd.jupyter.widget-view+json": {
       "model_id": "0cccf3134ccf4871b519db31ca19c7e3",
       "version_major": 2,
       "version_minor": 0
      },
      "text/plain": [
       "Validation: |          | 0/? [00:00<?, ?it/s]"
      ]
     },
     "metadata": {},
     "output_type": "display_data"
    },
    {
     "data": {
      "application/vnd.jupyter.widget-view+json": {
       "model_id": "c0bec161f8e94ca3b393c442804b6b82",
       "version_major": 2,
       "version_minor": 0
      },
      "text/plain": [
       "Validation: |          | 0/? [00:00<?, ?it/s]"
      ]
     },
     "metadata": {},
     "output_type": "display_data"
    },
    {
     "data": {
      "application/vnd.jupyter.widget-view+json": {
       "model_id": "a08eb1dfa5cd451898ae3ecf03ebcf32",
       "version_major": 2,
       "version_minor": 0
      },
      "text/plain": [
       "Validation: |          | 0/? [00:00<?, ?it/s]"
      ]
     },
     "metadata": {},
     "output_type": "display_data"
    },
    {
     "data": {
      "application/vnd.jupyter.widget-view+json": {
       "model_id": "b39b34a145e744f69af644668e160976",
       "version_major": 2,
       "version_minor": 0
      },
      "text/plain": [
       "Validation: |          | 0/? [00:00<?, ?it/s]"
      ]
     },
     "metadata": {},
     "output_type": "display_data"
    },
    {
     "data": {
      "application/vnd.jupyter.widget-view+json": {
       "model_id": "e4ead76e10874064a58d0a3e0ac38434",
       "version_major": 2,
       "version_minor": 0
      },
      "text/plain": [
       "Validation: |          | 0/? [00:00<?, ?it/s]"
      ]
     },
     "metadata": {},
     "output_type": "display_data"
    },
    {
     "data": {
      "application/vnd.jupyter.widget-view+json": {
       "model_id": "95d2440d35c34f46a46bb6b8c1be192e",
       "version_major": 2,
       "version_minor": 0
      },
      "text/plain": [
       "Validation: |          | 0/? [00:00<?, ?it/s]"
      ]
     },
     "metadata": {},
     "output_type": "display_data"
    },
    {
     "data": {
      "application/vnd.jupyter.widget-view+json": {
       "model_id": "815808ad4c36401cb97804b4a00df6ff",
       "version_major": 2,
       "version_minor": 0
      },
      "text/plain": [
       "Validation: |          | 0/? [00:00<?, ?it/s]"
      ]
     },
     "metadata": {},
     "output_type": "display_data"
    },
    {
     "data": {
      "application/vnd.jupyter.widget-view+json": {
       "model_id": "6002765e57704a05b7bfc4a5c31a07d1",
       "version_major": 2,
       "version_minor": 0
      },
      "text/plain": [
       "Validation: |          | 0/? [00:00<?, ?it/s]"
      ]
     },
     "metadata": {},
     "output_type": "display_data"
    },
    {
     "data": {
      "application/vnd.jupyter.widget-view+json": {
       "model_id": "3301ce1ead744776ab9804ef38481c05",
       "version_major": 2,
       "version_minor": 0
      },
      "text/plain": [
       "Validation: |          | 0/? [00:00<?, ?it/s]"
      ]
     },
     "metadata": {},
     "output_type": "display_data"
    },
    {
     "data": {
      "application/vnd.jupyter.widget-view+json": {
       "model_id": "cdee2b42a9894d48a7d92eb05260233c",
       "version_major": 2,
       "version_minor": 0
      },
      "text/plain": [
       "Validation: |          | 0/? [00:00<?, ?it/s]"
      ]
     },
     "metadata": {},
     "output_type": "display_data"
    },
    {
     "data": {
      "application/vnd.jupyter.widget-view+json": {
       "model_id": "cc057105d8b441d09d681b8515ee9bb0",
       "version_major": 2,
       "version_minor": 0
      },
      "text/plain": [
       "Validation: |          | 0/? [00:00<?, ?it/s]"
      ]
     },
     "metadata": {},
     "output_type": "display_data"
    },
    {
     "data": {
      "application/vnd.jupyter.widget-view+json": {
       "model_id": "c8c8bbddc18a4163948ab1190cd06f25",
       "version_major": 2,
       "version_minor": 0
      },
      "text/plain": [
       "Validation: |          | 0/? [00:00<?, ?it/s]"
      ]
     },
     "metadata": {},
     "output_type": "display_data"
    },
    {
     "data": {
      "application/vnd.jupyter.widget-view+json": {
       "model_id": "2488bb3ef85d4c8e881daad679447199",
       "version_major": 2,
       "version_minor": 0
      },
      "text/plain": [
       "Validation: |          | 0/? [00:00<?, ?it/s]"
      ]
     },
     "metadata": {},
     "output_type": "display_data"
    },
    {
     "data": {
      "application/vnd.jupyter.widget-view+json": {
       "model_id": "8748b48f697e42039d750a6f277681ce",
       "version_major": 2,
       "version_minor": 0
      },
      "text/plain": [
       "Validation: |          | 0/? [00:00<?, ?it/s]"
      ]
     },
     "metadata": {},
     "output_type": "display_data"
    },
    {
     "name": "stderr",
     "output_type": "stream",
     "text": [
      "`Trainer.fit` stopped: `max_epochs=50` reached.\n"
     ]
    }
   ],
   "source": [
    "# Trainer with a logger\n",
    "trainer = pl.Trainer(max_epochs=50, logger=pl.loggers.TensorBoardLogger('tb_logs'))\n",
    "\n",
    "# Fit the model\n",
    "trainer.fit(model_transformer, train_loader, val_loader)"
   ]
  },
  {
   "cell_type": "markdown",
   "metadata": {},
   "source": [
    "### 思考：\n",
    "\n",
    "1. `token_embeddings` 为什么是三个？分别是什么？为什么`in_features`不一样，而`out_features`必须一样？\n",
    "```\n",
    "(token_embeddings): ModuleList(\n",
    "  (0): Linear(in_features=7, out_features=20, bias=True)\n",
    "  (1): Linear(in_features=5, out_features=20, bias=True)\n",
    "  (2): Linear(in_features=2, out_features=20, bias=True)\n",
    ")\n",
    "```\n",
    "2. 这里定义的`q`, `k`, `v` 三个线性层，为什么`output_features`变成了5？\n",
    "```\n",
    "(heads): ModuleList(\n",
    "  (0-3): 4 x AttentionHead(\n",
    "    (q): Linear(in_features=20, out_features=5, bias=True)\n",
    "    (k): Linear(in_features=20, out_features=5, bias=True)\n",
    "    (v): Linear(in_features=20, out_features=5, bias=True)\n",
    "  )\n",
    "```\n",
    "\n",
    "下面我们依然在测试集上检查最终输出score的分布图："
   ]
  },
  {
   "cell_type": "code",
   "execution_count": 23,
   "metadata": {},
   "outputs": [
    {
     "name": "stderr",
     "output_type": "stream",
     "text": [
      "LOCAL_RANK: 0 - CUDA_VISIBLE_DEVICES: [0,1,2,3]\n",
      "/home/olympus/licq/utils/miniconda3/envs/weaver/lib/python3.9/site-packages/pytorch_lightning/trainer/connectors/data_connector.py:441: The 'predict_dataloader' does not have many workers which may be a bottleneck. Consider increasing the value of the `num_workers` argument` to `num_workers=71` in the `DataLoader` to improve performance.\n"
     ]
    },
    {
     "data": {
      "application/vnd.jupyter.widget-view+json": {
       "model_id": "fa4902be43d144929645988730adbd83",
       "version_major": 2,
       "version_minor": 0
      },
      "text/plain": [
       "Predicting: |          | 0/? [00:00<?, ?it/s]"
      ]
     },
     "metadata": {},
     "output_type": "display_data"
    },
    {
     "data": {
      "text/plain": [
       "(0.0, 1.0)"
      ]
     },
     "execution_count": 23,
     "metadata": {},
     "output_type": "execute_result"
    },
    {
     "data": {
      "image/png": "[encoded data removed]",
      "text/plain": [
       "<Figure size 720x720 with 1 Axes>"
      ]
     },
     "metadata": {
      "needs_background": "light"
     },
     "output_type": "display_data"
    }
   ],
   "source": [
    "# Use the trainer to predict\n",
    "predictions_transformer = trainer.predict(model_transformer, dataloaders=test_loader)\n",
    "predictions_transformer = [p.numpy() for batch in predictions_transformer for p in batch]\n",
    "\n",
    "test_score = np.array([np.exp(p[1]) / (np.exp(p[0]) + np.exp(p[1])) for p in predictions_transformer]) # 注意，我们取第二个神经元，因为它是signal对应的神经元\n",
    "\n",
    "## 下面做出图像\n",
    "\n",
    "import matplotlib.pyplot as plt\n",
    "import mplhep as hep\n",
    "plt.style.use(hep.style.ROOT)\n",
    "\n",
    "plt.hist(test_score[test_df['is_bkg']], label=\"BKG\", histtype=\"step\", bins=np.linspace(0,1), density=True)\n",
    "plt.hist(test_score[test_df['is_sig']], label=\"SIG\", histtype=\"step\", bins=np.linspace(0,1), density=True)\n",
    "plt.legend()\n",
    "plt.xlabel(\"Score (Prob. from Transformer Prediction)\")\n",
    "plt.xlim(0,1)"
   ]
  },
  {
   "cell_type": "markdown",
   "metadata": {},
   "source": [
    "## 用 Tensorboard 监控输出\n",
    "\n",
    "Tensorboard 是非常方便的检查训练、检测指标的监控软件，如果用过Jupyter，它的用法和Jupyter非常相似：打开一个Tensorboard服务，然后在浏览器访问特定的端口，就可以使用服务了。\n",
    "\n",
    "在notebook中可以用如下的魔术命令打开Tensorboard："
   ]
  },
  {
   "cell_type": "code",
   "execution_count": null,
   "metadata": {},
   "outputs": [],
   "source": [
    "%load_ext tensorboard"
   ]
  },
  {
   "cell_type": "code",
   "execution_count": null,
   "metadata": {},
   "outputs": [],
   "source": [
    "%tensorboard --logdir tb_logs\n",
    "\n",
    "## 如果在 Google Colab 上，这可以直接成功。\n",
    "\n",
    "## 如果在lxslc上运行，则还需要把 TensorBoard 服务的端口绑定到本地端口，就像开启 Jupyter 服务时那样。\n",
    "## 例如，如报错信息，显示 Reusing TensorBoard on port 6006，则把 6006 端口绑定到本地 6006 端口\n",
    "## 新开一个本地的shell，然后执行: ssh -L 6006:localhost:6006 <相应lxslc节点>"
   ]
  },
  {
   "cell_type": "markdown",
   "metadata": {},
   "source": [
    "可以看到 MLP 和 Transformer 的训练准确率（Accuracy）和损失函数（Loss）的曲线分别是这样的。我们的 Transformer 表现更好，获得胜利！\n",
    "\n",
    "<img src=\"figures/tensorboard_output.png\" alt=\"image\" width=900/>"
   ]
  },
  {
   "cell_type": "code",
   "execution_count": null,
   "metadata": {},
   "outputs": [],
   "source": []
  }
 ],
 "metadata": {
  "kernelspec": {
   "display_name": "Python 3",
   "language": "python",
   "name": "python3"
  },
  "language_info": {
   "codemirror_mode": {
    "name": "ipython",
    "version": 3
   },
   "file_extension": ".py",
   "mimetype": "text/x-python",
   "name": "python",
   "nbconvert_exporter": "python",
   "pygments_lexer": "ipython3",
   "version": "3.9.7"
  },
  "toc-autonumbering": false,
  "toc-showcode": true,
  "toc-showmarkdowntxt": false
 },
 "nbformat": 4,
 "nbformat_minor": 4
}
